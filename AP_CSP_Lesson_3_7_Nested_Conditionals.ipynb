{
  "nbformat": 4,
  "nbformat_minor": 0,
  "metadata": {
    "colab": {
      "provenance": [],
      "authorship_tag": "ABX9TyO89mHZRQNV1pOOMgyn5dlY",
      "include_colab_link": true
    },
    "kernelspec": {
      "name": "python3",
      "display_name": "Python 3"
    },
    "language_info": {
      "name": "python"
    }
  },
  "cells": [
    {
      "cell_type": "markdown",
      "metadata": {
        "id": "view-in-github",
        "colab_type": "text"
      },
      "source": [
        "<a href=\"https://colab.research.google.com/github/wajdilsa/AP-CSP/blob/main/AP_CSP_Lesson_3_7_Nested_Conditionals.ipynb\" target=\"_parent\"><img src=\"https://colab.research.google.com/assets/colab-badge.svg\" alt=\"Open In Colab\"/></a>"
      ]
    },
    {
      "cell_type": "markdown",
      "source": [
        "**Standard:**\n",
        "\n",
        "AAP-2: The way statements are sequenced and combined in a program determines the computed result. Programs incorporate iteration and selection constructs to represent repetition and make decisions to handle varied input values.\n",
        "Learning\n",
        "\n",
        "**Objectives:**\n",
        "\n",
        "AAP-2.I  For nested selection:\n",
        "a. Write nested conditional statements. 2.B\n",
        "b. Determine the result of nested conditional statements. 4.B\n",
        "\n",
        "**Success Criteria:**\n",
        "\n",
        "Use Python to:\n",
        "\n",
        "•\tUnderstand the concept of nested conditionals.\n",
        "•\tWrite code using nested if statements.\n",
        "•\tApply nested conditionals to solve problems.\n",
        "\n",
        "**Academic Vocabulary:**\n",
        "\n",
        "•\tConditional Statement: A programming construct that allows decisions to be made in code based on specific conditions.\n",
        "\n",
        "•\tIf Statement: A fundamental conditional statement that checks a condition and executes a block of code if the condition is true.\n",
        "\n",
        "•\tElse Statement: A component of conditional statements (often used with if statements) that specifies what should happen if the condition is false.\n",
        "\n",
        "•\tElse-If Statement: A conditional statement used to specify additional conditions to check when the initial if condition is false.\n",
        "\n",
        "•\tBoolean Expression: A statement or condition that evaluates to either true or false.\n"
      ],
      "metadata": {
        "id": "YE3apR9zbvQg"
      }
    },
    {
      "cell_type": "markdown",
      "source": [
        "**Example 1:**\n",
        "\n",
        "The following function takes the CO2 emissions as input and categorizes the car into one of four categories: \"Low Emission Car,\" \"Medium Emission Car,\" \"High Emission Car,\" or \"Very High Emission Car\" based on different CO2 emission ranges. The nested if-else statements help determine the appropriate category for a given CO2 emission level."
      ],
      "metadata": {
        "id": "yGssyn-IcnT4"
      }
    },
    {
      "cell_type": "code",
      "source": [
        "def categorize_car_by_co2_emissions(co2_emissions):\n",
        "    if co2_emissions < 100:\n",
        "        category = \"Low Emission Car\"\n",
        "    elif 100 <= co2_emissions < 150:\n",
        "        category = \"Medium Emission Car\"\n",
        "    elif 150 <= co2_emissions < 200:\n",
        "        category = \"High Emission Car\"\n",
        "    else:\n",
        "        category = \"Very High Emission Car\"\n",
        "\n",
        "    return category\n",
        "\n",
        "# Example usage:\n",
        "co2_level = float(input(\"Enter the CO2 emissions of the car (in grams/km): \"))\n",
        "car_category = categorize_car_by_co2_emissions(co2_level)\n",
        "print(f\"The car falls into the category: {car_category}\")\n"
      ],
      "metadata": {
        "colab": {
          "base_uri": "https://localhost:8080/"
        },
        "id": "ZURKbRoMby8N",
        "outputId": "0fc8ecc9-8938-43d2-a214-28d9214e3ebe"
      },
      "execution_count": 1,
      "outputs": [
        {
          "output_type": "stream",
          "name": "stdout",
          "text": [
            "Enter the CO2 emissions of the car (in grams/km): 10\n",
            "The car falls into the category: Low Emission Car\n"
          ]
        }
      ]
    },
    {
      "cell_type": "markdown",
      "source": [
        "**Example 2:**\n",
        "\n",
        "The following function uses a simple formula to calculate an efficiency score based on the provided factors. The efficiency score is then used to categorize the battery into different efficiency levels: \"Excellent Efficiency,\" \"Good Efficiency,\" \"Moderate Efficiency,\" or \"Low Efficiency.\" Note that this is a basic example, and in a real-world scenario, more sophisticated metrics and considerations would be needed for a comprehensive evaluation."
      ],
      "metadata": {
        "id": "wKzy5yt-c_QQ"
      }
    },
    {
      "cell_type": "code",
      "source": [
        "def evaluate_ev_battery_efficiency(capacity_kWh, charging_speed_kW, performance_rating):\n",
        "    \"\"\"\n",
        "    Evaluate the efficiency of an EV car battery.\n",
        "\n",
        "    Parameters:\n",
        "    - capacity_kWh (float): Energy capacity of the battery in kilowatt-hours (kWh).\n",
        "    - charging_speed_kW (float): Charging speed of the battery in kilowatts (kW).\n",
        "    - performance_rating (float): Overall performance rating of the battery (0 to 100).\n",
        "\n",
        "    Returns:\n",
        "    - efficiency_evaluation (str): Efficiency evaluation result.\n",
        "    \"\"\"\n",
        "    efficiency_score = capacity_kWh * charging_speed_kW * (performance_rating / 100)\n",
        "\n",
        "    if efficiency_score >= 200:\n",
        "        efficiency_evaluation = \"Excellent Efficiency\"\n",
        "    elif 100 <= efficiency_score < 200:\n",
        "        efficiency_evaluation = \"Good Efficiency\"\n",
        "    elif 50 <= efficiency_score < 100:\n",
        "        efficiency_evaluation = \"Moderate Efficiency\"\n",
        "    else:\n",
        "        efficiency_evaluation = \"Low Efficiency\"\n",
        "\n",
        "    return efficiency_evaluation\n",
        "\n",
        "# Example usage:\n",
        "capacity = float(input(\"Enter the battery capacity (kWh): \"))\n",
        "charging_speed = float(input(\"Enter the charging speed (kW): \"))\n",
        "performance = float(input(\"Enter the performance rating (0 to 100): \"))\n",
        "\n",
        "result = evaluate_ev_battery_efficiency(capacity, charging_speed, performance)\n",
        "print(f\"The EV car battery efficiency is rated as: {result}\")\n"
      ],
      "metadata": {
        "id": "U97hqybieVxE"
      },
      "execution_count": null,
      "outputs": []
    }
  ]
}