{
  "nbformat": 4,
  "nbformat_minor": 0,
  "metadata": {
    "colab": {
      "provenance": [],
      "authorship_tag": "ABX9TyPcb91dqP7s2F00ppnDOxlb",
      "include_colab_link": true
    },
    "kernelspec": {
      "name": "python3",
      "display_name": "Python 3"
    },
    "language_info": {
      "name": "python"
    }
  },
  "cells": [
    {
      "cell_type": "markdown",
      "metadata": {
        "id": "view-in-github",
        "colab_type": "text"
      },
      "source": [
        "<a href=\"https://colab.research.google.com/github/wajdilsa/AP-CSP/blob/main/AP_CSP_Lesson_3_6_Conditionals.ipynb\" target=\"_parent\"><img src=\"https://colab.research.google.com/assets/colab-badge.svg\" alt=\"Open In Colab\"/></a>"
      ]
    },
    {
      "cell_type": "markdown",
      "source": [
        "\n",
        "**Standard:**\n",
        "\n",
        "2.A Represent algorithmic processes without using a programming language.\n",
        "2.B Implement and apply an algorithm.\n",
        "4.B Determine the result of code segments.\n",
        "\n",
        "**Learning Objective:**\n",
        "\n",
        "AAP-2.G Express an algorithm that uses selection without using a programming language. 2.A\n",
        "\n",
        "**Success Criteria:**\n",
        "\n",
        "Use Python to:\n",
        "\n",
        "•\tUnderstand the concept of conditionals in programming.\n",
        "\n",
        "•\tUse if statements to make decisions in code.\n",
        "\n",
        "•\tPractice writing and executing conditional statements.\n",
        "\n",
        "\n",
        "**Academic Vocabulary**\n",
        "\n",
        "•\tConditional Statement: A programming construct that allows decisions to be made in code based on specific conditions.\n",
        "\n",
        "•\tIf Statement: A fundamental conditional statement that checks a condition and executes a block of code if the condition is true.\n",
        "\n",
        "•\tElse Statement: A component of conditional statements (often used with if statements) that specifies what should happen if the condition is false.\n",
        "\n",
        "•\tElse-If Statement: A conditional statement used to specify additional conditions to check when the initial if condition is false.\n",
        "\n",
        "•\tBoolean Expression: A statement or condition that evaluates to either true or false.\n",
        "\n",
        "\n",
        ""
      ],
      "metadata": {
        "id": "KBH5Oi8kt3lC"
      }
    },
    {
      "cell_type": "markdown",
      "source": [
        "**Example 1:**\n",
        "\n",
        "The following code prompts the user to:\n",
        "1. input a number and test if it is positive, negative or Zero,\n",
        "2. age, and side lengths of a triangle and then provides information about the number,\n",
        "3. discount eligibility, and the type of triangle."
      ],
      "metadata": {
        "id": "kkUWeyuEyMYi"
      }
    },
    {
      "cell_type": "markdown",
      "source": [],
      "metadata": {
        "id": "UV5V3XtUueUc"
      }
    },
    {
      "cell_type": "code",
      "source": [
        "# Q1. Complete the following function to test a number if it is Positive, Negative or Zero:\n",
        "\n",
        "def check_number(number):\n",
        "    if ########:\n",
        "        return \"Positive\"\n",
        "    elif ########:\n",
        "        return \"Negative\"\n",
        "    else:\n",
        "        return \"Zero\"\n",
        "\n",
        "# Q2. Explain the following function:\n",
        "def check_discount_eligibility(age):\n",
        "    if age < 18:\n",
        "        return \"Not eligible for a discount\"\n",
        "    elif 18 <= age <= 25:\n",
        "        return \"Eligible for a student discount\"\n",
        "    elif age > 65:\n",
        "        return \"Eligible for a senior discount\"\n",
        "    else:\n",
        "        return \"Eligible for a regular discount\"\n",
        "# # Q1. Explain the following function:\n",
        "def identify_triangle_type(side1, side2, side3):\n",
        "    if side1 == side2 == side3:\n",
        "        return \"Equilateral Triangle\"\n",
        "    elif side1 == side2 or side1 == side3 or side2 == side3:\n",
        "        return \"Isosceles Triangle\"\n",
        "    else:\n",
        "        return \"Scalene Triangle\"\n",
        "\n",
        "# Example usage:\n",
        "number_to_check = float(input(\"Enter a number: \"))\n",
        "age_for_discount = int(input(\"Enter your age: \"))\n",
        "side1_length = float(input(\"Enter the length of side 1 of the triangle: \"))\n",
        "side2_length = float(input(\"Enter the length of side 2 of the triangle: \"))\n",
        "side3_length = float(input(\"Enter the length of side 3 of the triangle: \"))\n",
        "\n",
        "# Checking if a number is positive, negative, or zero\n",
        "result_number = check_number(number_to_check)\n",
        "print(f\"The number {number_to_check} is {result_number}.\")\n",
        "\n",
        "# Determining eligibility for a discount based on age\n",
        "result_discount = check_discount_eligibility(age_for_discount)\n",
        "print(f\"At the age of {age_for_discount}, you are {result_discount}.\")\n",
        "\n",
        "# Identifying the type of triangle based on side lengths\n",
        "result_triangle_type = identify_triangle_type(side1_length, side2_length, side3_length)\n",
        "print(f\"The triangle with side lengths {side1_length}, {side2_length}, and {side3_length} is a {result_triangle_type}.\")\n"
      ],
      "metadata": {
        "colab": {
          "base_uri": "https://localhost:8080/"
        },
        "id": "1GR3rhYPufnP",
        "outputId": "b1e96b24-3e66-4ebf-e58e-4621531df2d7"
      },
      "execution_count": 1,
      "outputs": [
        {
          "output_type": "stream",
          "name": "stdout",
          "text": [
            "Enter a number: 10\n",
            "Enter your age: 22\n",
            "Enter the length of side 1 of the triangle: 10\n",
            "Enter the length of side 2 of the triangle: 20\n",
            "Enter the length of side 3 of the triangle: 30\n",
            "The number 10.0 is Positive.\n",
            "At the age of 22, you are Eligible for a student discount.\n",
            "The triangle with side lengths 10.0, 20.0, and 30.0 is a Scalene Triangle.\n"
          ]
        }
      ]
    }
  ]
}