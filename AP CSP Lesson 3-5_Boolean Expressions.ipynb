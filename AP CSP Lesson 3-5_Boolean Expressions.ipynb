{
  "nbformat": 4,
  "nbformat_minor": 0,
  "metadata": {
    "colab": {
      "provenance": [],
      "authorship_tag": "ABX9TyOuLPBLlEUWKt4UfCn+k2op",
      "include_colab_link": true
    },
    "kernelspec": {
      "name": "python3",
      "display_name": "Python 3"
    },
    "language_info": {
      "name": "python"
    }
  },
  "cells": [
    {
      "cell_type": "markdown",
      "metadata": {
        "id": "view-in-github",
        "colab_type": "text"
      },
      "source": [
        "<a href=\"https://colab.research.google.com/github/wajdilsa/AP-CSP/blob/main/AP%20CSP%20Lesson%203-5_Boolean%20Expressions.ipynb\" target=\"_parent\"><img src=\"https://colab.research.google.com/assets/colab-badge.svg\" alt=\"Open In Colab\"/></a>"
      ]
    },
    {
      "cell_type": "markdown",
      "source": [
        "**Standard:**\n",
        "\n",
        "2.B Implement and apply an algorithm.\n",
        "\n",
        "4.B Determine the result of code segments.\n",
        "\n",
        "**Learning Objective**\n",
        "\n",
        "AAP-2.E For relationships between two variables, expressions, or values:\n",
        "\n",
        "a. Write expressions using relational operators.  2.B\n",
        "\n",
        "b. Evaluate expressions that use relational operators.  4.B\n",
        "\n",
        "**Success Criteria**\n",
        "\n",
        "Use Python to:\n",
        "\n",
        "Understand the concept of Boolean expressions.\n",
        "Create and evaluate Boolean expressions.\n",
        "Apply Boolean expressions in practical scenarios.\n",
        "\n",
        "\n",
        "**Academic Vocabulary**\n",
        "\n",
        "Boolean Expression: A mathematical expression that evaluates to either true or false.\n",
        "\n",
        "Boolean Data Type: A data type that can only have two values: true or false.\n",
        "\n",
        "Logical Operators: Symbols (e.g., AND, OR, NOT) used to manipulate and combine Boolean values.\n",
        "\n",
        "AND Operator (&&): A logical operator that returns true if both operands are true.\n",
        "\n",
        "OR Operator (||): A logical operator that returns true if at least one of the operands is true.\n",
        "\n",
        "NOT Operator (!): A logical operator that negates the value of a Boolean expression.\n",
        "\n",
        "Comparison Operators: Symbols (e.g., ==, !=, <, >, <=, >=) used to compare values and create Boolean expressions."
      ],
      "metadata": {
        "id": "KBH5Oi8kt3lC"
      }
    },
    {
      "cell_type": "code",
      "source": [
        "# Understanding Boolean Expressions\n",
        "\n",
        "# Example 1: Basic Boolean Expressions\n",
        "x = 5\n",
        "y = 10\n",
        "\n",
        "# Using comparison operators to create Boolean expressions\n",
        "is_greater = x > y\n",
        "is_equal = x == y\n",
        "is_not_equal = x != y\n",
        "# Printing x and y\n",
        "print (\"x=\",x,\" and y=\",y)\n",
        "print()\n",
        "# Printing the results\n",
        "print(\"Example 1:\")\n",
        "print(\"x > y:\", is_greater)\n",
        "print(\"x == y:\", is_equal)\n",
        "print(\"x != y:\", is_not_equal)\n",
        "print()\n",
        "\n",
        "# Example 2: Combining Boolean Expressions\n",
        "temperature = 25\n",
        "is_sunny = True\n",
        "\n",
        "# Using logical operators to combine Boolean expressions\n",
        "is_warm_and_sunny = temperature > 20 and is_sunny\n",
        "is_cold_or_overcast = temperature < 10 or not is_sunny\n",
        "\n",
        "# Printing the results\n",
        "print(\"Example 2:\")\n",
        "print(\"Is it warm and sunny?\", is_warm_and_sunny)\n",
        "print(\"Is it cold or overcast?\", is_cold_or_overcast)\n",
        "print()\n",
        "\n",
        "# Example 3: Practical Scenario\n",
        "has_ticket = True\n",
        "is_adult = False\n",
        "\n",
        "# Using Boolean expressions in a practical scenario\n",
        "can_enter_amusement_park = has_ticket and is_adult\n",
        "\n",
        "# Printing the result\n",
        "print(\"Example 3:\")\n",
        "print(\"Can enter amusement park?\", can_enter_amusement_park)\n"
      ],
      "metadata": {
        "colab": {
          "base_uri": "https://localhost:8080/"
        },
        "id": "uhHDixU2t5Ns",
        "outputId": "65e60c22-90c0-4f04-db64-a102cb074067"
      },
      "execution_count": 4,
      "outputs": [
        {
          "output_type": "stream",
          "name": "stdout",
          "text": [
            "x= 5  and y= 10\n",
            "\n",
            "Example 1:\n",
            "x > y: False\n",
            "x == y: False\n",
            "x != y: True\n",
            "\n",
            "Example 2:\n",
            "Is it warm and sunny? True\n",
            "Is it cold or overcast? False\n",
            "\n",
            "Example 3:\n",
            "Can enter amusement park? False\n"
          ]
        }
      ]
    }
  ]
}