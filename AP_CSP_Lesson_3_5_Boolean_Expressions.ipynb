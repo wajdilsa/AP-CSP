{
  "nbformat": 4,
  "nbformat_minor": 0,
  "metadata": {
    "colab": {
      "provenance": [],
      "authorship_tag": "ABX9TyNKWQG2dK+s/jHb/zNY4fRD",
      "include_colab_link": true
    },
    "kernelspec": {
      "name": "python3",
      "display_name": "Python 3"
    },
    "language_info": {
      "name": "python"
    }
  },
  "cells": [
    {
      "cell_type": "markdown",
      "metadata": {
        "id": "view-in-github",
        "colab_type": "text"
      },
      "source": [
        "<a href=\"https://colab.research.google.com/github/wajdilsa/AP-CSP/blob/main/AP_CSP_Lesson_3_5_Boolean_Expressions.ipynb\" target=\"_parent\"><img src=\"https://colab.research.google.com/assets/colab-badge.svg\" alt=\"Open In Colab\"/></a>"
      ]
    },
    {
      "cell_type": "markdown",
      "source": [
        "**Skills:**\n",
        "\n",
        "2.B Implement and apply an algorithm.\n",
        "\n",
        "4.B Determine the result of code segments.\n",
        "\n",
        "**Learning Objective**\n",
        "\n",
        "AAP-2.E For relationships between two variables, expressions, or values:\n",
        "\n",
        "a. Write expressions using relational operators.  2.B\n",
        "\n",
        "b. Evaluate expressions that use relational operators.  4.B\n",
        "\n",
        "**Success Criteria**\n",
        "\n",
        "Use Python to:\n",
        "\n",
        "Understand the concept of Boolean expressions.\n",
        "Create and evaluate Boolean expressions.\n",
        "Apply Boolean expressions in practical scenarios.\n",
        "\n",
        "\n",
        "**Academic Vocabulary**\n",
        "\n",
        "Boolean Expression: A mathematical expression that evaluates to either true or false.\n",
        "\n",
        "Boolean Data Type: A data type that can only have two values: true or false.\n",
        "\n",
        "Logical Operators: Symbols (e.g., AND, OR, NOT) used to manipulate and combine Boolean values.\n",
        "\n",
        "AND Operator (&&): A logical operator that returns true if both operands are true.\n",
        "\n",
        "OR Operator (||): A logical operator that returns true if at least one of the operands is true.\n",
        "\n",
        "NOT Operator (!): A logical operator that negates the value of a Boolean expression.\n",
        "\n",
        "Comparison Operators: Symbols (e.g., ==, !=, <, >, <=, >=) used to compare values and create Boolean expressions."
      ],
      "metadata": {
        "id": "KBH5Oi8kt3lC"
      }
    },
    {
      "cell_type": "markdown",
      "source": [
        "**Exampl1 : Basic Boolean Expressions**"
      ],
      "metadata": {
        "id": "7NlzTXAyEr32"
      }
    },
    {
      "cell_type": "code",
      "source": [
        "x = 5\n",
        "y = 10\n",
        "\n",
        "# Using comparison operators to create Boolean expressions\n",
        "is_greater = x > y\n",
        "is_equal = x == y\n",
        "is_not_equal = x != y\n",
        "# Printing x and y\n",
        "print (\"x=\",x,\" and y=\",y)\n",
        "print()\n",
        "# Printing the results\n",
        "print(\"Example 1:\")\n",
        "print(\"x > y:\", is_greater)\n",
        "print(\"x == y:\", is_equal)\n",
        "print(\"x != y:\", is_not_equal)\n",
        "print()\n",
        "\n",
        "# Example 2: Combining Boolean Expressions\n",
        "temperature = 25\n",
        "is_sunny = True\n",
        "\n",
        "# Using logical operators to combine Boolean expressions\n",
        "is_warm_and_sunny = temperature > 20 and is_sunny\n",
        "is_cold_or_overcast = temperature < 10 or not is_sunny\n",
        "\n",
        "# Printing the results\n",
        "print(\"Example 2:\")\n",
        "print(\"Is it warm and sunny?\", is_warm_and_sunny)\n",
        "print(\"Is it cold or overcast?\", is_cold_or_overcast)\n",
        "print()\n",
        "\n",
        "# Example 3: Practical Scenario\n",
        "has_ticket = True\n",
        "is_adult = False\n",
        "\n",
        "# Using Boolean expressions in a practical scenario\n",
        "can_enter_amusement_park = has_ticket and is_adult\n",
        "\n",
        "# Printing the result\n",
        "print(\"Example 3:\")\n",
        "print(\"Can enter amusement park?\", can_enter_amusement_park)\n"
      ],
      "metadata": {
        "colab": {
          "base_uri": "https://localhost:8080/"
        },
        "id": "uhHDixU2t5Ns",
        "outputId": "65e60c22-90c0-4f04-db64-a102cb074067"
      },
      "execution_count": 4,
      "outputs": [
        {
          "output_type": "stream",
          "name": "stdout",
          "text": [
            "x= 5  and y= 10\n",
            "\n",
            "Example 1:\n",
            "x > y: False\n",
            "x == y: False\n",
            "x != y: True\n",
            "\n",
            "Example 2:\n",
            "Is it warm and sunny? True\n",
            "Is it cold or overcast? False\n",
            "\n",
            "Example 3:\n",
            "Can enter amusement park? False\n"
          ]
        }
      ]
    },
    {
      "cell_type": "markdown",
      "source": [
        "**Example 2: P:ython code for the Electric Car CO2 Emission Checker with Boolean Expressions:**\n",
        "\n",
        "Function Definition:\n",
        "\n",
        "The calculate_co2_emissions function takes three parameters: car_model, distance_traveled, and co2_emissions_per_km.\n",
        "It calculates the total CO2 emissions based on the distance traveled and CO2 emissions per kilometer.\n",
        "The function then displays a CO2 emissions report and checks if the emissions are considered eco-friendly.\n",
        "User Inputs:\n",
        "\n",
        "The user is prompted to enter the electric car model, distance traveled, and CO2 emissions per kilometer.\n",
        "Calculation and Display:\n",
        "\n",
        "The calculate_co2_emissions function is called with the user-provided inputs.\n",
        "The total CO2 emissions and the emissions report are displayed.\n",
        "Boolean Expression:\n",
        "\n",
        "The code introduces a boolean variable is_eco_friendly based on the condition: co2_emissions_per_km < 50.\n",
        "This condition checks if the CO2 emissions per kilometer are below 50 grams, indicating an eco-friendly vehicle.\n",
        "Display Message:\n",
        "\n",
        "Depending on the boolean condition, the code displays a message indicating whether the electric car is environmentally friendly or if users should consider the emissions level.\n",
        "User Interaction:\n",
        "\n",
        "The code allows users to experiment with different inputs and observe how the program responds to changes in CO2 emissions per kilometer.\n",
        "Adjustable Threshold:\n",
        "\n",
        "The threshold for considering emissions as eco-friendly can be adjusted based on specific criteria or standards.\n",
        "This code serves as a simple example to introduce students to programming concepts such as user input, function definition, boolean expressions, and conditional statements. It also emphasizes the application of these concepts in an environmental context."
      ],
      "metadata": {
        "id": "lV8AlvvuEE_2"
      }
    },
    {
      "cell_type": "code",
      "source": [
        "# Electric Car CO2 Emission Checker with Boolean Expressions\n",
        "\n",
        "# Function to calculate and display CO2 emissions\n",
        "def calculate_co2_emissions(car_model, distance_traveled, co2_emissions_per_km):\n",
        "    # Calculate total CO2 emissions\n",
        "    total_co2_emissions = distance_traveled * co2_emissions_per_km\n",
        "\n",
        "    # Display the result\n",
        "    print(\"\\nCO2 Emissions Report for\", car_model)\n",
        "    print(\"Distance Traveled:\", distance_traveled, \"km\")\n",
        "    print(\"CO2 Emissions per Kilometer:\", co2_emissions_per_km, \"grams\")\n",
        "    print(\"Total CO2 Emissions:\", total_co2_emissions, \"grams\")\n",
        "\n",
        "    # Check if emissions are eco-friendly\n",
        "    is_eco_friendly = co2_emissions_per_km < 50  # Adjust the threshold as needed\n",
        "\n",
        "    # Display a message based on the boolean condition\n",
        "    if is_eco_friendly:\n",
        "        print(\"This electric car is environmentally friendly!\")\n",
        "    else:\n",
        "        print(\"Consideration: This electric car has higher CO2 emissions.\")\n",
        "\n",
        "# Input: Electric car model\n",
        "car_model = input(\"Enter the electric car model: \")\n",
        "\n",
        "# Input: Distance traveled\n",
        "distance_traveled = float(input(\"Enter the distance traveled (in kilometers): \"))\n",
        "\n",
        "# Input: CO2 emissions per kilometer for the specific electric car model\n",
        "co2_emissions_per_km = float(input(f\"Enter the CO2 emissions per kilometer (in grams) for {car_model}: \"))\n",
        "\n",
        "# Call the function to calculate and display CO2 emissions\n",
        "calculate_co2_emissions(car_model, distance_traveled, co2_emissions_per_km)\n"
      ],
      "metadata": {
        "colab": {
          "base_uri": "https://localhost:8080/"
        },
        "id": "8p1KOOyTEFW-",
        "outputId": "9f76cad6-da53-4fc2-8206-8e4779bda3e9"
      },
      "execution_count": 1,
      "outputs": [
        {
          "output_type": "stream",
          "name": "stdout",
          "text": [
            "Enter the electric car model: Tesla\n",
            "Enter the distance traveled (in kilometers): 100\n",
            "Enter the CO2 emissions per kilometer (in grams) for Tesla: 0\n",
            "\n",
            "CO2 Emissions Report for Tesla\n",
            "Distance Traveled: 100.0 km\n",
            "CO2 Emissions per Kilometer: 0.0 grams\n",
            "Total CO2 Emissions: 0.0 grams\n",
            "This electric car is environmentally friendly!\n"
          ]
        }
      ]
    }
  ]
}